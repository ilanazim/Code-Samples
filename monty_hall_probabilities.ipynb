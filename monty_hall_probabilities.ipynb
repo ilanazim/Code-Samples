{
  "cells": [
    {
      "metadata": {
        "trusted": false
      },
      "cell_type": "code",
      "source": "#!/usr/bin/python3\n\"\"\"\nScript: monty_hall_probabilities_Homework2_IlanaZimmerman.py\n\nAuthor: Ilana Zimmerman\n\nPurpose: Homework 2 - Monty Hall Simulations\n\"\"\"\n\nimport os\nimport sys\nimport timeit\nimport logging\nimport datetime\nimport functools\nimport numpy as np\n\n# Setup Logging\ndef setup_logger(log_dir=None,\n                 log_file=None,\n                 log_format=logging.Formatter(\"%(asctime)s - %(name)s - %(levelname)s - %(message)s\"),\n                 log_level=logging.INFO):\n    # Get logger\n    logger = logging.getLogger('')\n    # Clear logger\n    logger.handlers = []\n    # Set level\n    logger.setLevel(log_level)\n    # Setup screen logging (standard out)\n    sh = logging.StreamHandler(sys.stdout)\n    sh.setFormatter(log_format)\n    logger.addHandler(sh)\n    # Setup file logging\n    if log_dir and log_file:\n        fh = logging.FileHandler(os.path.join(log_dir, log_file))\n        fh.setFormatter(log_format)\n        logger.addHandler(fh)\n\n    return logger\n\n\ndef run_one_game(player_switch = True): #change this to boollean so that 'True' is not both defined as winning and defined as player switch\n    # This function should go through a game and\n    #   perform a switch/stay according to the argument\n    #   then return either True or False according if\n    #   the player won or not.\n    # Get Logging\n    logger = logging.getLogger(\"log\")\n    doors = range(1, 4)\n    prize = np.random.choice(doors)\n    player_choice_initial = np.random.choice(doors)\n    nonselected_doors = set(doors).difference({player_choice_initial})\n    doors_displayed = set(doors).difference({player_choice_initial},{prize}) #defining this variable was unnecessary in the loop I wound up using\n  \n    \n\n    logger.debug('prize-door: {}, player-door:{}, non-selected:{}'.format(prize, player_choice_initial, nonselected_doors))\n     \n    if player_switch == True:\n        \n        if player_choice_initial ==prize:\n            outcome = False\n        \n        else:\n            outcome = True\n    \n    else:\n        if player_choice_initial == prize:\n            outcome = True #<then the player stayed on the prize, they won!>\n        else:\n            outcome = False #<then the player stayed on a non-prize, they lost!>\n        \n        \n    return outcome\n\n\ndef unit_test_game_logical():\n    # Check to make sure that the outcome is a logical\n    expected_outcomes = [True, False]\n    actual_outcome = run_one_game()\n    assert actual_outcome in expected_outcomes, 'Your test game did not give a logical!'#raises this assertion error if outcome not 'True' or 'False'\n                                                                             \n\n\nif __name__ == \"__main__\":\n    # Perform unit test --> does not return anything and doesn't accept any arguments!\n    unit_test_game_logical() #below code only runs if unit test passes\n\n    # Files and folders\n    logging_dir = 'logs'  #log file will be saved in the same file as module file \n    time_date = datetime.datetime.now()\n    string_date = time_date.strftime(\"%Y%m%d_%H%M%S\")\n\n    # Setup Logging\n    logging_level = logging.INFO\n    if not os.path.exists(logging_dir):\n        os.makedirs(logging_dir)\n    logging_file = 'Ilana_Zimmerman_montyhall_{}.log'.format(string_date)\n    log = setup_logger(logging_dir, logging_file, log_level=logging_level)\n\n    # Parameters\n    n_sims = 1000\n\n    # TODO To determine the best 'n_sims', need to time the function, say 1000 times.\n    timer_loops = 1000\n    t = timeit.Timer(functools.partial(run_one_game))\n    log.info('{} runs took {} seconds.'.format(timer_loops, t.timeit(timer_loops)))\n\n    # Perform Stay Simulation\n    stay_outcomes = []\n    for game_num in range(n_sims):\n        stay_outcomes.append(run_one_game(player_switch=False))\n\n    stay_prob = np.mean(stay_outcomes)\n    stay_var = np.var(stay_outcomes)\n\n    #log the above results\n    log.info('the probability of winning the prize while staying with the original door is {} with a variance of {}.'.format(stay_prob, stay_var))\n    \n\n    # Perform Switch Simulation\n    switch_outcomes = []\n    for game_num in range(n_sims):\n        switch_outcomes.append(run_one_game(player_switch=True))\n\n    switch_prob = np.mean(switch_outcomes)\n    switch_var = np.var(switch_outcomes)\n    \n    # Log the above results!\n    log.info('the probability of winning the prize when switiching doors is {} with a variance of {}.'.format(switch_prob, switch_var))\n  \n",
      "execution_count": 2,
      "outputs": [
        {
          "name": "stdout",
          "output_type": "stream",
          "text": "2018-01-24 17:04:20,630 - root - INFO - 1000 runs took 0.030677000000650878 seconds.\n2018-01-24 17:04:20,666 - root - INFO - the probability of winning the prize while staying with the original door is 0.323 with a variance of 0.21867099999999998.\n2018-01-24 17:04:20,710 - root - INFO - the probability of winning the prize when switiching doors is 0.679 with a variance of 0.21795900000000007.\n"
        }
      ]
    },
    {
      "metadata": {
        "collapsed": true
      },
      "cell_type": "markdown",
      "source": "Useful Links:\nhttps://jeffknupp.com/blog/2013/12/09/improve-your-python-understanding-unit-testing/\nhttps://docs.python.org/3/library/unittest.html#assert-methods\nhttps://docs.python.org/2/reference/simple_stmts.html#index-14\nhttps://docs.python.org/2/howto/logging.html\nhttps://www.blog.pythonlibrary.org/2012/08/02/python-101-an-intro-to-logging/\nhttps://www.geeksforgeeks.org/what-does-the-if-__name__-__main__-do/"
    }
  ],
  "metadata": {
    "kernelspec": {
      "name": "python36",
      "display_name": "Python 3.6",
      "language": "python"
    },
    "language_info": {
      "mimetype": "text/x-python",
      "nbconvert_exporter": "python",
      "name": "python",
      "pygments_lexer": "ipython3",
      "version": "3.6.6",
      "file_extension": ".py",
      "codemirror_mode": {
        "version": 3,
        "name": "ipython"
      }
    }
  },
  "nbformat": 4,
  "nbformat_minor": 2
}