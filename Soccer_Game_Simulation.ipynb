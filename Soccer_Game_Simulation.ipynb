{
  "cells": [
    {
      "metadata": {},
      "cell_type": "markdown",
      "source": "# Data Sci: Homework 3\n\n## Ilana Zimmerman\n\n## 1/24/18\n\n## Summary\n\nOn July 8th, 2014, the Brazil National Soccer team played the German National Soccer team in the 2014 World Cup. Imagine a scenario where our hero, let's call him 'Rick' watches the game.  Rick's roommate is doing chores and is moderately interested in soccer.  The roommate will come out five times and watch for approximately 5-10 minutes. E.g., he will come out a total of five times and watch for a random amount of time between 5 and 10 minutes.\n\nFor our purposes, a soccer match is 90 minutes long.  The end score was 1-7, with Germany winning.  Here are the exact minutes of when all eight goals happened:\n\n - Goals at 11, 23, 24, 26, 29, 69, 79, and 90.\n\nIf the only thing we remember is that Rick's roommate came out five times and watched between 5 and 10 minutes each time, what is the expected number of goals that Rick's roomate watched?  Also plot an empirical distribution of goals.\n\nTo answer this question we will simulate the above scenario many times and average the total number of goals to get the expected number."
    },
    {
      "metadata": {
        "trusted": true
      },
      "cell_type": "code",
      "source": "# Import libraries\nimport time\nimport numpy as np\nimport matplotlib.pyplot as plt\nimport pandas as pd\nfrom random import randint\n%matplotlib inline",
      "execution_count": 14,
      "outputs": []
    },
    {
      "metadata": {
        "trusted": true
      },
      "cell_type": "code",
      "source": "# Setup parameters\n\n# Minutes when goals happened\ngoal_minutes = [11, 23, 24, 26, 29, 69, 79, 90]\n\n# How many times roommate comes out\nroommate_views = 5\n\n# Possible lengths of roommate viewing times\nroommate_view_len = [5, 6, 7, 8, 9, 10]\n\n# Game end minute\ngame_end = 90\n\n# Number of simulations to run\nn_sim = 1000",
      "execution_count": 15,
      "outputs": []
    },
    {
      "metadata": {},
      "cell_type": "markdown",
      "source": "Now that we have written down everything we know, let's create a function that will accept these arguments:\n\n- Roommate start time (integer between 1 and 90)\n- Roommate end time (integer in 'roommate_view_len'), remember not to count goals occuring exactly on this minute.\n- Goal minutes (list of integers of when goals happened)\n\nAnd returns the following:\n\n- Number of goals seen (Integer between 0 and 8)"
    },
    {
      "metadata": {
        "trusted": true
      },
      "cell_type": "code",
      "source": "def count_goals(start_time, end_time, goal_min_list):\n    end_time not in goal_minutes\n    goals_seen=[]\n    goals_seen_count=0\n    i=0\n    for i in range(start_time,end_time+1):\n        if i in goal_minutes:\n            goals_seen.append(i) #array of which goals seen\n            goals_seen_count=len(goals_seen) #count of goals seen per view, equal to length of goals seen array\n        else:\n            0\n    \n\n    return goals_seen_count",
      "execution_count": 16,
      "outputs": []
    },
    {
      "metadata": {},
      "cell_type": "markdown",
      "source": "Let's start our simulations!"
    },
    {
      "metadata": {
        "scrolled": false,
        "trusted": true
      },
      "cell_type": "code",
      "source": "# Time simulation\nstart_time = time.time()\nn_sim = 10 #start by running 10 simulations, add more for accuracy\ngoal_count_list = []\n\nfor n in range(n_sim):\n    # Loop through each of the roommate views\n    one_simulation = []\n    roommate_end_time = 0\n    print(\"NEW GAME ++++\") #print to separate start/end times per game\n    for view_count in range(roommate_views):\n        leng = np.random.choice(roommate_view_len)\n        # Get roommate start time; New roommate start time has to be a random integer between the previous end time and the game end (the roommate is coming out sequentially as the game progresses\n        roommate_start_time = randint(roommate_end_time, game_end )\n        # Get roommate end time\n        if roommate_start_time + leng < game_end: #roommate end time cant be longer than the legth of the game!\n            roommate_end_time = roommate_start_time + leng\n        else:\n            break #end simulation if the time interval chosen exceeds the 90min game end time. This ensures you dont count the same interval twice\n        \n        \n        print('start time is:', roommate_start_time) #<-- used to verify goals seen in time interval & interval overlap\n        print('end time is:', roommate_end_time)\n    # Get/Store goals seen \n        one_simulation.append(count_goals(roommate_start_time,roommate_end_time,goal_minutes))\n    goal_count_list.append(one_simulation)\n    print('goals seen this game =', sum(one_simulation))\n    if (sum(one_simulation) > 8) : \n        print (\"OH NOOOOOOOOOO \") #sum of goals seen must by <= 8, check! could be unittest...\n        print (one_simulation)\n\n        \n        \n        \n        \n       \n\n# End Time\nend_time = time.time()\ntotal_time = end_time - start_time\nprint('Simulation took {} seconds.'.format(total_time))\nprint(goal_count_list) #print list of goal counts seen per roommate view per game\n",
      "execution_count": 17,
      "outputs": [
        {
          "output_type": "stream",
          "text": "NEW GAME ++++\nstart time is: 26\nend time is: 31\nstart time is: 36\nend time is: 44\nstart time is: 55\nend time is: 64\ngoals seen this game = 2\nNEW GAME ++++\nstart time is: 22\nend time is: 30\ngoals seen this game = 4\nNEW GAME ++++\nstart time is: 11\nend time is: 20\nstart time is: 62\nend time is: 69\nstart time is: 75\nend time is: 85\ngoals seen this game = 3\nNEW GAME ++++\nstart time is: 75\nend time is: 82\ngoals seen this game = 1\nNEW GAME ++++\nstart time is: 18\nend time is: 26\nstart time is: 48\nend time is: 55\nstart time is: 74\nend time is: 79\nstart time is: 80\nend time is: 86\ngoals seen this game = 4\nNEW GAME ++++\nstart time is: 12\nend time is: 21\nstart time is: 65\nend time is: 74\ngoals seen this game = 1\nNEW GAME ++++\nstart time is: 22\nend time is: 28\nstart time is: 73\nend time is: 79\ngoals seen this game = 4\nNEW GAME ++++\nstart time is: 67\nend time is: 73\nstart time is: 74\nend time is: 81\ngoals seen this game = 2\nNEW GAME ++++\nstart time is: 68\nend time is: 73\nstart time is: 82\nend time is: 87\ngoals seen this game = 1\nNEW GAME ++++\nstart time is: 75\nend time is: 81\ngoals seen this game = 1\nSimulation took 0.03852081298828125 seconds.\n[[2, 0, 0], [4], [1, 1, 1], [1], [3, 0, 1, 0], [0, 1], [3, 1], [1, 1], [1, 0], [1]]\n",
          "name": "stdout"
        }
      ]
    },
    {
      "metadata": {
        "trusted": true
      },
      "cell_type": "code",
      "source": "(roommate_start_time,roommate_end_time+1) not in range(roommate_start_time,roommate_end_time+1)#want to ensure each of the 5 times the roommate comes out is a unique time range",
      "execution_count": 18,
      "outputs": [
        {
          "output_type": "execute_result",
          "execution_count": 18,
          "data": {
            "text/plain": "True"
          },
          "metadata": {}
        }
      ]
    },
    {
      "metadata": {},
      "cell_type": "markdown",
      "source": "Now we know how long 'n_sims' took, we can scale upwards to perform more simulations!  Go back and change 'n_sims' to something that you are willing to wait for."
    },
    {
      "metadata": {
        "trusted": true
      },
      "cell_type": "code",
      "source": "print('length of goals seen list is equal to the number of games seen, represented by a list of goal counts =', len(goal_count_list))\n#the length of the goal counts list generated in 5x the number of simulations because the roommate comes out 5 seperate times each game for n games simulated",
      "execution_count": 19,
      "outputs": [
        {
          "output_type": "stream",
          "text": "length of goals seen list is equal to the number of games seen, represented by a list of goal counts = 10\n",
          "name": "stdout"
        }
      ]
    },
    {
      "metadata": {
        "trusted": true
      },
      "cell_type": "code",
      "source": "#add each list of goal counts per game\ntotal_goals_per_game = []\nfor list in goal_count_list:\n    total_goals_per_game.append(sum(list))\nprint(total_goals_per_game) \n    ",
      "execution_count": 20,
      "outputs": [
        {
          "output_type": "stream",
          "text": "[2, 4, 3, 1, 4, 1, 4, 2, 1, 1]\n",
          "name": "stdout"
        }
      ]
    },
    {
      "metadata": {
        "trusted": true
      },
      "cell_type": "code",
      "source": "# Calculate the average \navg_goals_seen = np.mean(total_goals_per_game)\nprint('Roomate saw an avg of {} goals per game simulated.'.format(avg_goals_seen))",
      "execution_count": 21,
      "outputs": [
        {
          "output_type": "stream",
          "text": "Roomate saw an avg of 2.3 goals per game simulated.\n",
          "name": "stdout"
        }
      ]
    },
    {
      "metadata": {},
      "cell_type": "markdown",
      "source": "### Plot the histogram"
    },
    {
      "metadata": {
        "trusted": true,
        "scrolled": true
      },
      "cell_type": "code",
      "source": "plt.hist(total_goals_per_game, bins=10)\nplt.title('Number of Goals Seen By Frequency')\nplt.xlabel('Number of Goals Seen')\nplt.ylabel('Frequency')",
      "execution_count": 22,
      "outputs": [
        {
          "output_type": "execute_result",
          "execution_count": 22,
          "data": {
            "text/plain": "Text(0,0.5,'Frequency')"
          },
          "metadata": {}
        },
        {
          "output_type": "display_data",
          "data": {
            "image/png": "[encoded data removed]",
            "text/plain": "<matplotlib.figure.Figure at 0x7f80140946a0>"
          },
          "metadata": {}
        }
      ]
    },
    {
      "metadata": {
        "collapsed": true
      },
      "cell_type": "markdown",
      "source": "## What is the emperical probability that the roommate saw at least 2 goals?"
    },
    {
      "metadata": {
        "trusted": true
      },
      "cell_type": "code",
      "source": "for x in range(2,9):\n    for x in total_goals_per_game:\n        count = total_goals_per_game.count(x)\n        p_x = count/len(total_goals_per_game)\nprint('the emperical probability that the roommate saw at least 2 goals in the game is:', p_x)\n",
      "execution_count": 23,
      "outputs": [
        {
          "output_type": "stream",
          "text": "the emperical probability that the roommate saw at least 2 goals in the game is: 0.4\n",
          "name": "stdout"
        }
      ]
    }
  ],
  "metadata": {
    "kernelspec": {
      "name": "python3",
      "display_name": "Python 3",
      "language": "python"
    },
    "language_info": {
      "mimetype": "text/x-python",
      "nbconvert_exporter": "python",
      "name": "python",
      "pygments_lexer": "ipython3",
      "version": "3.5.4",
      "file_extension": ".py",
      "codemirror_mode": {
        "version": 3,
        "name": "ipython"
      }
    }
  },
  "nbformat": 4,
  "nbformat_minor": 1
}